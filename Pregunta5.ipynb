{
  "nbformat": 4,
  "nbformat_minor": 0,
  "metadata": {
    "colab": {
      "provenance": []
    },
    "kernelspec": {
      "name": "python3",
      "display_name": "Python 3"
    },
    "language_info": {
      "name": "python"
    }
  },
  "cells": [
    {
      "cell_type": "code",
      "execution_count": 6,
      "metadata": {
        "colab": {
          "base_uri": "https://localhost:8080/"
        },
        "id": "ofiEcbS6y-2w",
        "outputId": "ecb61465-1148-4ddb-e8a5-f0807438f7bf"
      },
      "outputs": [
        {
          "output_type": "stream",
          "name": "stdout",
          "text": [
            "12\n"
          ]
        }
      ],
      "source": [
        "def Suma_Series(n):\n",
        "    if n <= 0:\n",
        "        return 0\n",
        "    else:\n",
        "        return n + Suma_Series(n - 2)\n",
        "\n",
        "n = 6\n",
        "print(Suma_Series(n))\n"
      ]
    }
  ]
}