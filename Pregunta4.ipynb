{
  "nbformat": 4,
  "nbformat_minor": 0,
  "metadata": {
    "colab": {
      "provenance": []
    },
    "kernelspec": {
      "name": "python3",
      "display_name": "Python 3"
    },
    "language_info": {
      "name": "python"
    }
  },
  "cells": [
    {
      "cell_type": "code",
      "execution_count": 3,
      "metadata": {
        "colab": {
          "base_uri": "https://localhost:8080/"
        },
        "id": "ofiEcbS6y-2w",
        "outputId": "d2947831-6138-416d-b705-5f735a95f39f"
      },
      "outputs": [
        {
          "output_type": "stream",
          "name": "stdout",
          "text": [
            "Entrada:\n",
            "Cadena a = abc\n",
            "Cadena b = cba\n",
            "No es posible que 'b' sea subcadena de 'a' repetida.\n",
            "Resultado final: -1\n"
          ]
        }
      ],
      "source": [
        "import math\n",
        "\n",
        "def minimas_repeticiones(a: str, b: str) -> int:\n",
        "    repeticiones_minimas = math.ceil(len(b) / len(a))\n",
        "\n",
        "    for repeticiones in range(repeticiones_minimas, repeticiones_minimas + 3):\n",
        "        cadena_repetida = a * repeticiones\n",
        "        if b in cadena_repetida:\n",
        "            print(\"Cadena repetida:\", cadena_repetida)\n",
        "            print(\"Número de veces que se repite:\", repeticiones)\n",
        "            return repeticiones\n",
        "\n",
        "    print(\"No es posible que 'b' sea subcadena de 'a' repetida.\")\n",
        "    return -1\n",
        "\n",
        "cadena_a = \"abc\"\n",
        "cadena_b = \"cba\"\n",
        "\n",
        "print(\"Entrada:\")\n",
        "print(\"Cadena a =\", cadena_a)\n",
        "print(\"Cadena b =\", cadena_b)\n",
        "\n",
        "resultado = minimas_repeticiones(cadena_a, cadena_b)\n",
        "\n",
        "print(\"Resultado final:\", resultado)\n"
      ]
    }
  ]
}