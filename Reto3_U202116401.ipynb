{
  "nbformat": 4,
  "nbformat_minor": 0,
  "metadata": {
    "colab": {
      "provenance": []
    },
    "kernelspec": {
      "name": "python3",
      "display_name": "Python 3"
    },
    "language_info": {
      "name": "python"
    }
  },
  "cells": [
    {
      "cell_type": "code",
      "execution_count": 5,
      "metadata": {
        "colab": {
          "base_uri": "https://localhost:8080/"
        },
        "id": "uJQuG3cEeev2",
        "outputId": "9532057e-fefe-4d23-ae56-8a89602b6f3f"
      },
      "outputs": [
        {
          "output_type": "stream",
          "name": "stdout",
          "text": [
            "El número de pares que suman 6 es: 3\n",
            "Los pares de sensores son: {(-1, 7), (2, 4), (1, 5)}\n"
          ]
        }
      ],
      "source": [
        "def contar_pares_y_mostrar(valores, obj):\n",
        "    def dividir_y_vencer(arr):\n",
        "        if len(arr) <= 1:\n",
        "            return [], set()\n",
        "\n",
        "        mitad = len(arr) // 2\n",
        "        izq = arr[:mitad]\n",
        "        der = arr[mitad:]\n",
        "\n",
        "        pares_izq, conj_izq = dividir_y_vencer(izq)\n",
        "        pares_der, conj_der = dividir_y_vencer(der)\n",
        "\n",
        "        pares_med = []\n",
        "        conj_med = set()\n",
        "\n",
        "        for n in izq:\n",
        "            comp = obj - n\n",
        "            if comp in der:\n",
        "                par = tuple(sorted((n, comp)))\n",
        "                if par not in conj_izq and par not in conj_der and par not in conj_med:\n",
        "                    pares_med.append(par)\n",
        "                    conj_med.add(par)\n",
        "\n",
        "        pares_tot = pares_izq + pares_der + pares_med\n",
        "        conj_tot = conj_izq.union(conj_der).union(conj_med)\n",
        "\n",
        "        return pares_tot, conj_tot\n",
        "\n",
        "    pares, pares_unicos = dividir_y_vencer(valores)\n",
        "    print(f\"El número de pares que suman {obj} es: {len(pares_unicos)}\")\n",
        "    print(f\"Los pares de sensores son: {pares_unicos}\")\n",
        "\n",
        "val_sens = [1, 5, 7, -1, 6, 3, 4, 2]\n",
        "val_obj = 6\n",
        "\n",
        "contar_pares_y_mostrar(val_sens, val_obj)"
      ]
    }
  ]
}