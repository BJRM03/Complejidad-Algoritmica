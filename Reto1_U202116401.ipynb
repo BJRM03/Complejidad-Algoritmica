{
  "nbformat": 4,
  "nbformat_minor": 0,
  "metadata": {
    "colab": {
      "provenance": []
    },
    "kernelspec": {
      "name": "python3",
      "display_name": "Python 3"
    },
    "language_info": {
      "name": "python"
    }
  },
  "cells": [
    {
      "cell_type": "code",
      "execution_count": 17,
      "metadata": {
        "id": "jIyqK3nooXJi",
        "colab": {
          "base_uri": "https://localhost:8080/"
        },
        "outputId": "6c898643-15d2-419c-ada4-8c09d81a4142"
      },
      "outputs": [
        {
          "output_type": "stream",
          "name": "stdout",
          "text": [
            "Total de soluciones para n = 3: 2\n",
            "\n",
            "[2, 3, 1, 2, 1, 3]\n",
            "[3, 1, 2, 1, 3, 2]\n"
          ]
        }
      ],
      "source": [
        "#Usamos Backtracking porque tenemos que ir armando la secuencia paso a paso,\n",
        "#si en algún momento no se puede seguir, retrocedemos y probamos otra opción\n",
        "#para usar solo combinaciones validas\n",
        "def encontrar_combinaciones(n):\n",
        "    resultado = []\n",
        "    secuencia = [0] * (2 * n)\n",
        "    usados = set()\n",
        "\n",
        "    def backtrack(indice):\n",
        "        if indice == 2 * n:\n",
        "            resultado.append(secuencia[:])\n",
        "            return\n",
        "\n",
        "        if secuencia[indice] != 0:\n",
        "            backtrack(indice + 1)\n",
        "            return\n",
        "\n",
        "        for num in range(1, n + 1):\n",
        "            j = indice + num + 1\n",
        "            if num not in usados and j < 2 * n and secuencia[j] == 0:\n",
        "                secuencia[indice] = num\n",
        "                secuencia[j] = num\n",
        "                usados.add(num)\n",
        "\n",
        "                backtrack(indice + 1)\n",
        "\n",
        "                secuencia[indice] = 0\n",
        "                secuencia[j] = 0\n",
        "                usados.remove(num)\n",
        "\n",
        "    backtrack(0)\n",
        "    return resultado\n",
        "\n",
        "n = 3\n",
        "soluciones = encontrar_combinaciones(n)\n",
        "\n",
        "print(f\"Total de soluciones para n = {n}: {len(soluciones)}\\n\")\n",
        "for sol in soluciones:\n",
        "    print(sol)\n"
      ]
    }
  ]
}